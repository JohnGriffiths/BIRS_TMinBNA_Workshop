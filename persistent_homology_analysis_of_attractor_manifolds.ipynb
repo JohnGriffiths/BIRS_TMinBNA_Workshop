{
 "cells": [
  {
   "cell_type": "markdown",
   "metadata": {},
   "source": [
    "# Persistent Homology Analysis of TVB Model Time Series"
   ]
  },
  {
   "cell_type": "markdown",
   "metadata": {},
   "source": [
    "Define some variables"
   ]
  },
  {
   "cell_type": "code",
   "execution_count": 3,
   "metadata": {
    "collapsed": false
   },
   "outputs": [],
   "source": [
    "# put some system-specific variables in the namespace ('le' dict)\n",
    "%run ~/set_localenv_vars.py\n",
    "\n",
    "nb_name = 'persistent_homology_analysis_of_attrcator_manifolds'\n",
    "\n",
    "# this is where I look for things\n",
    "outdir = '%s/notebooks/%s' %(le['data_dir'],nb_name)\n",
    "\n",
    "# this is where things actually live\n",
    "#outdir_loc = '%s/%s' %('/mnt/titania-hecuba/mcintosh_lab/john/Data/notebooks', nb_name)\n",
    "outdir_loc = '%s/%s' %('/hecuba/mcintosh_lab/john/Data/notebooks', nb_name)\n",
    "import os; \n",
    "if not os.path.isdir(outdir_loc): os.makedirs(outdir_loc)\n",
    "if not os.path.isdir(outdir): os.system('ln -s %s %s' %(outdir_loc,outdir))\n",
    "\n",
    "    # root path to tvb-library, tvb-data, etc. libraries. \n",
    "tvb_folder = le['code_dir'] + '/libraries_of_others/github'\n",
    "\n",
    "tvb_dat_dir = tvb_folder + '/tvb-data'\n",
    "\n",
    "ctx_file = tvb_dat_dir + '/tvb_data/surfaceData/cortex_16384.zip'\n",
    "rm_file = tvb_dat_dir  + '/tvb_data/regionMapping/regionMapping_16k_76.bz2'\n",
    "conn_file = tvb_dat_dir + '/tvb_data/connectivity/connectivity_76.zip'\n",
    "\n",
    "\n",
    "# stuff for workdocs-cloudfiles\n",
    "\n",
    "aws_key = 'drowssaperucesyreva'\n",
    "aws_secret = '?teytidettopsuoyevah'  \n"
   ]
  },
  {
   "cell_type": "markdown",
   "metadata": {},
   "source": [
    "Importage"
   ]
  },
  {
   "cell_type": "code",
   "execution_count": 4,
   "metadata": {
    "collapsed": false
   },
   "outputs": [
    {
     "ename": "ImportError",
     "evalue": "No module named h5py",
     "output_type": "error",
     "traceback": [
      "\u001b[0;31m---------------------------------------------------------------------------\u001b[0m",
      "\u001b[0;31mImportError\u001b[0m                               Traceback (most recent call last)",
      "\u001b[0;32m<ipython-input-4-71c7aacc79b0>\u001b[0m in \u001b[0;36m<module>\u001b[0;34m()\u001b[0m\n\u001b[1;32m      1\u001b[0m \u001b[0;31m# Generic imports\u001b[0m\u001b[0;34m\u001b[0m\u001b[0;34m\u001b[0m\u001b[0m\n\u001b[1;32m      2\u001b[0m \u001b[0;34m\u001b[0m\u001b[0m\n\u001b[0;32m----> 3\u001b[0;31m \u001b[0;32mimport\u001b[0m \u001b[0mos\u001b[0m\u001b[0;34m,\u001b[0m\u001b[0msys\u001b[0m\u001b[0;34m,\u001b[0m\u001b[0mglob\u001b[0m\u001b[0;34m,\u001b[0m\u001b[0mh5py\u001b[0m\u001b[0;34m,\u001b[0m\u001b[0mitertools\u001b[0m\u001b[0;34m,\u001b[0m\u001b[0mmultiprocessing\u001b[0m\u001b[0;34m,\u001b[0m       \u001b[0mnumpy\u001b[0m \u001b[0;32mas\u001b[0m \u001b[0mnp\u001b[0m\u001b[0;34m,\u001b[0m\u001b[0mpandas\u001b[0m \u001b[0;32mas\u001b[0m \u001b[0mpd\u001b[0m\u001b[0;34m\u001b[0m\u001b[0m\n\u001b[0m\u001b[1;32m      4\u001b[0m \u001b[0;32mfrom\u001b[0m \u001b[0mdatetime\u001b[0m \u001b[0;32mimport\u001b[0m \u001b[0mdatetime\u001b[0m\u001b[0;34m\u001b[0m\u001b[0m\n\u001b[1;32m      5\u001b[0m \u001b[0;32mfrom\u001b[0m \u001b[0mtime\u001b[0m \u001b[0;32mimport\u001b[0m \u001b[0mtime\u001b[0m\u001b[0;34m\u001b[0m\u001b[0m\n",
      "\u001b[0;31mImportError\u001b[0m: No module named h5py"
     ]
    }
   ],
   "source": [
    "# Generic imports\n",
    "\n",
    "import os,sys,glob,h5py,itertools,multiprocessing,\\\n",
    "       numpy as np,pandas as pd\n",
    "from datetime import datetime\n",
    "from time import time\n",
    "from scipy import optimize\n",
    "from scipy.signal import hilbert\n",
    "from scipy.sparse import bsr_matrix\n",
    "from scipy.sparse.linalg import eigs as sp_eigs\n",
    "\n",
    "\n",
    "# Visualization stuff\n",
    "\n",
    "%matplotlib inline\n",
    "from matplotlib import pyplot as plt\n",
    "from matplotlib.pyplot import subplot\n",
    "import matplotlib as mpl\n",
    "import matplotlib.pyplot as pyplot\n",
    "import matplotlib.colors\n",
    "import matplotlib.ticker as ticker\n",
    "import matplotlib.colors as colors\n",
    "from matplotlib.tri import Triangulation\n",
    "from matplotlib import cm\n",
    "import matplotlib as mpl\n",
    "from mpl_toolkits.mplot3d import Axes3D\n",
    "from IPython.display import Image,display as d,clear_output\n",
    "import seaborn as sns\n",
    "\n",
    "from numpy import pi,cos,sin\n",
    "\n",
    "\n",
    "# aws api and workdocs-cloudfiles stuff\n",
    "\n",
    "sys.path.append(le['ipynb_workdocs_dir'])\n",
    "from new_utils import nb_fig,cloudfiles_nb\n",
    "\n",
    "\n",
    "# TVB stuff\n",
    "\n",
    "nbso,nbse = sys.stdout,sys.stderr # hack part 1/2 to keep output printing properly\n",
    "sys.path.append(tvb_folder +'/tvb-library')\n",
    "sys.path.append(tvb_folder + '/tvb-data')\n",
    "from tvb.simulator.lab import *\n",
    "sys.stdout,sys.stderr = nbso,nbse  # ...hack part 2/2\n",
    "\n",
    "from tvb.datatypes.cortex import Cortex\n",
    "from tvb.datatypes.region_mapping import RegionMapping\n",
    "from tvb.datatypes.projections import ProjectionMatrix\n",
    "\n",
    "\n",
    "from copy import copy # seems that this needs to be done last otherwise it gets \n",
    "                      # replaced with numpy copy function"
   ]
  },
  {
   "cell_type": "markdown",
   "metadata": {},
   "source": [
    "Generate 2D oscillator time series"
   ]
  },
  {
   "cell_type": "code",
   "execution_count": null,
   "metadata": {
    "collapsed": true
   },
   "outputs": [],
   "source": []
  }
 ],
 "metadata": {
  "kernelspec": {
   "display_name": "Python [conda env:jupyter_release]",
   "language": "python",
   "name": "conda-env-jupyter_release-py"
  },
  "language_info": {
   "codemirror_mode": {
    "name": "ipython",
    "version": 2
   },
   "file_extension": ".py",
   "mimetype": "text/x-python",
   "name": "python",
   "nbconvert_exporter": "python",
   "pygments_lexer": "ipython2",
   "version": "2.7.12"
  }
 },
 "nbformat": 4,
 "nbformat_minor": 1
}
